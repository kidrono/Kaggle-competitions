{
  "nbformat": 4,
  "nbformat_minor": 0,
  "metadata": {
    "colab": {
      "provenance": [],
      "authorship_tag": "ABX9TyMldK+I7xLpljsnFkuTM6cV",
      "include_colab_link": true
    },
    "kernelspec": {
      "name": "python3",
      "display_name": "Python 3"
    },
    "language_info": {
      "name": "python"
    }
  },
  "cells": [
    {
      "cell_type": "markdown",
      "metadata": {
        "id": "view-in-github",
        "colab_type": "text"
      },
      "source": [
        "<a href=\"https://colab.research.google.com/github/kidrono/Kaggle-competitions/blob/main/kaggle_disaster_tweets.ipynb\" target=\"_parent\"><img src=\"https://colab.research.google.com/assets/colab-badge.svg\" alt=\"Open In Colab\"/></a>"
      ]
    },
    {
      "cell_type": "markdown",
      "source": [
        "# Kaggle competition: Natural Language Processing with Disaster Tweets\n",
        "The competition information could be found [here](https://www.kaggle.com/competitions/nlp-getting-started/overview)"
      ],
      "metadata": {
        "id": "1JO2P67hZnPp"
      }
    },
    {
      "cell_type": "code",
      "execution_count": 82,
      "metadata": {
        "colab": {
          "base_uri": "https://localhost:8080/"
        },
        "id": "2C24JXicUxQr",
        "outputId": "18e4c943-c6be-4536-ecea-30b4022b9d87"
      },
      "outputs": [
        {
          "output_type": "stream",
          "name": "stdout",
          "text": [
            "Looking in indexes: https://pypi.org/simple, https://us-python.pkg.dev/colab-wheels/public/simple/\n",
            "Requirement already satisfied: kaggle in /usr/local/lib/python3.10/dist-packages (1.5.13)\n",
            "Requirement already satisfied: six>=1.10 in /usr/local/lib/python3.10/dist-packages (from kaggle) (1.16.0)\n",
            "Requirement already satisfied: requests in /usr/local/lib/python3.10/dist-packages (from kaggle) (2.27.1)\n",
            "Requirement already satisfied: urllib3 in /usr/local/lib/python3.10/dist-packages (from kaggle) (1.26.15)\n",
            "Requirement already satisfied: python-slugify in /usr/local/lib/python3.10/dist-packages (from kaggle) (8.0.1)\n",
            "Requirement already satisfied: tqdm in /usr/local/lib/python3.10/dist-packages (from kaggle) (4.65.0)\n",
            "Requirement already satisfied: python-dateutil in /usr/local/lib/python3.10/dist-packages (from kaggle) (2.8.2)\n",
            "Requirement already satisfied: certifi in /usr/local/lib/python3.10/dist-packages (from kaggle) (2022.12.7)\n",
            "Requirement already satisfied: text-unidecode>=1.3 in /usr/local/lib/python3.10/dist-packages (from python-slugify->kaggle) (1.3)\n",
            "Requirement already satisfied: idna<4,>=2.5 in /usr/local/lib/python3.10/dist-packages (from requests->kaggle) (3.4)\n",
            "Requirement already satisfied: charset-normalizer~=2.0.0 in /usr/local/lib/python3.10/dist-packages (from requests->kaggle) (2.0.12)\n"
          ]
        }
      ],
      "source": [
        "! pip install kaggle"
      ]
    },
    {
      "cell_type": "code",
      "source": [
        "! mkdir ~/.kaggle"
      ],
      "metadata": {
        "id": "f46Tzr_XV_ux",
        "colab": {
          "base_uri": "https://localhost:8080/"
        },
        "outputId": "635a6837-e252-4eef-c57f-02834e64e347"
      },
      "execution_count": 83,
      "outputs": [
        {
          "output_type": "stream",
          "name": "stdout",
          "text": [
            "mkdir: cannot create directory ‘/root/.kaggle’: File exists\n"
          ]
        }
      ]
    },
    {
      "cell_type": "code",
      "source": [
        "! cp kaggle.json ~/.kaggle/"
      ],
      "metadata": {
        "id": "Xd-BDNwsWFPq"
      },
      "execution_count": 84,
      "outputs": []
    },
    {
      "cell_type": "code",
      "source": [
        "! chmod 600 ~/.kaggle/kaggle.json"
      ],
      "metadata": {
        "id": "O-XI6_nzWG3y"
      },
      "execution_count": 85,
      "outputs": []
    },
    {
      "cell_type": "code",
      "source": [
        "! kaggle competitions download nlp-getting-started"
      ],
      "metadata": {
        "colab": {
          "base_uri": "https://localhost:8080/"
        },
        "id": "d-3bSGUMWK-R",
        "outputId": "93c250cc-fb6b-49ac-acea-747faae068a6"
      },
      "execution_count": 86,
      "outputs": [
        {
          "output_type": "stream",
          "name": "stdout",
          "text": [
            "nlp-getting-started.zip: Skipping, found more recently modified local copy (use --force to force download)\n"
          ]
        }
      ]
    },
    {
      "cell_type": "code",
      "source": [
        "import zipfile\n",
        "import os\n",
        "\n",
        "if os.path.isfile(\"/data/train.csv\"):\n",
        "  print(\"allready exists\")\n",
        "else:\n",
        "  zip_ref = zipfile.ZipFile(\"nlp-getting-started.zip\", 'r')\n",
        "  zip_ref.extractall(\"/data\")\n",
        "  zip_ref.close()"
      ],
      "metadata": {
        "id": "gV26R-AKWv6i",
        "colab": {
          "base_uri": "https://localhost:8080/"
        },
        "outputId": "52cdd03d-6146-4745-b279-8d026bcb3278"
      },
      "execution_count": 87,
      "outputs": [
        {
          "output_type": "stream",
          "name": "stdout",
          "text": [
            "allready exists\n"
          ]
        }
      ]
    },
    {
      "cell_type": "code",
      "source": [
        "import pandas as pd\n",
        "import numpy as np\n",
        "import re\n",
        "import torch"
      ],
      "metadata": {
        "id": "A2siS3npY4n5"
      },
      "execution_count": 88,
      "outputs": []
    },
    {
      "cell_type": "code",
      "source": [
        "train_df = pd.read_csv(\"/data/train.csv\")\n",
        "train_labels = train_df['target']"
      ],
      "metadata": {
        "id": "0cqcQOAYyMCK"
      },
      "execution_count": 89,
      "outputs": []
    },
    {
      "cell_type": "code",
      "source": [
        "# one_hot_dict = dict()\n",
        "# i = 0\n",
        "# for text in train_df['text']:\n",
        "#   clean_tweet = re.sub(r'[^a-zA-Z ]+', '', text)\n",
        "#   tweet = clean_tweet.split(' ')\n",
        "#   for word in tweet:\n",
        "#     word = word.lower()\n",
        "#     if word not in one_hot_dict.keys():\n",
        "#       one_hot_dict[word] = i\n",
        "#       i += 1\n",
        "# vec_dim = len(one_hot_dict) + 1\n",
        "# vec_dim"
      ],
      "metadata": {
        "id": "XGDl-YOnvVF7"
      },
      "execution_count": 90,
      "outputs": []
    },
    {
      "cell_type": "code",
      "source": [
        "# def sentence_vector(text):\n",
        "#   vec = np.zeros(vec_dim)\n",
        "#   clean_tweet = re.sub(r'[^a-zA-Z ]+', '', text)\n",
        "#   tweet = clean_tweet.split(' ')\n",
        "#   for word in tweet:\n",
        "#     word = word.lower()\n",
        "#     if word in one_hot_dict.keys():\n",
        "#       vec[one_hot_dict[word]] += 1\n",
        "#     else:\n",
        "#       vec[-1] += 1\n",
        "#   return vec"
      ],
      "metadata": {
        "id": "lX9eiSCzx-Qt"
      },
      "execution_count": 91,
      "outputs": []
    },
    {
      "cell_type": "code",
      "source": [
        "# X = []\n",
        "# for text in train_df['text']:\n",
        "#   X.append(sentence_vector(text))\n",
        "# X = np.array(X)\n",
        "# X.shape"
      ],
      "metadata": {
        "id": "aZ1fTNF603hj"
      },
      "execution_count": 92,
      "outputs": []
    },
    {
      "cell_type": "code",
      "source": [
        "class LogisticRegression(torch.nn.Module):\n",
        "\n",
        "  def __init__(self, input_dim, classes) -> None:\n",
        "    super().__init__()\n",
        "    self.linear = torch.nn.Linear(input_dim, classes)\n",
        "    self.sigmoid = torch.nn.Sigmoid()\n",
        "  \n",
        "  def forward(self, x):\n",
        "    x = self.linear(x)\n",
        "    x = self.sigmoid(x)\n",
        "    return x"
      ],
      "metadata": {
        "id": "aDdLt70n5-eb"
      },
      "execution_count": 93,
      "outputs": []
    },
    {
      "cell_type": "code",
      "source": [
        "def train(x, y, model, loss, optimizer, ephocs):\n",
        "  for epoch in epochs:\n",
        "    y_pred = model(x)\n",
        "    pred_loss = loss(y, y_pred)\n",
        "    optimizer.zero_grad()\n",
        "    loss.backward()\n",
        "    optimizer.step()\n",
        "    \n"
      ],
      "metadata": {
        "id": "2BdI3PWd9EbI"
      },
      "execution_count": 94,
      "outputs": []
    },
    {
      "cell_type": "code",
      "source": [
        "from gensim.models import Word2Vec\n",
        "import gensim"
      ],
      "metadata": {
        "id": "W37Smgm3snDL"
      },
      "execution_count": 95,
      "outputs": []
    },
    {
      "cell_type": "code",
      "source": [
        "# cleaned_list = []\n",
        "# i = 0\n",
        "# for text in train_df['text']:\n",
        "#   clean_tweet = re.sub(r'[^a-zA-Z ]+', '', text)\n",
        "#   tweet = clean_tweet.lower()\n",
        "#   final = tweet.encode('utf-8').split()\n",
        "#   cleaned_list.append(final)\n",
        "# train_df['clean_tweet'] = cleaned_list\n",
        "# train_df\n"
      ],
      "metadata": {
        "id": "gqXD27uussFS"
      },
      "execution_count": 96,
      "outputs": []
    },
    {
      "cell_type": "code",
      "source": [
        "train_df['text_clean'] = train_df['text'].apply(lambda x: gensim.utils.simple_preprocess(x))\n",
        "train_df"
      ],
      "metadata": {
        "colab": {
          "base_uri": "https://localhost:8080/",
          "height": 424
        },
        "id": "aqKgSubLiOsi",
        "outputId": "47cd3e6c-8e2d-4a07-86df-44672114d8ca"
      },
      "execution_count": 97,
      "outputs": [
        {
          "output_type": "execute_result",
          "data": {
            "text/plain": [
              "         id keyword location  \\\n",
              "0         1     NaN      NaN   \n",
              "1         4     NaN      NaN   \n",
              "2         5     NaN      NaN   \n",
              "3         6     NaN      NaN   \n",
              "4         7     NaN      NaN   \n",
              "...     ...     ...      ...   \n",
              "7608  10869     NaN      NaN   \n",
              "7609  10870     NaN      NaN   \n",
              "7610  10871     NaN      NaN   \n",
              "7611  10872     NaN      NaN   \n",
              "7612  10873     NaN      NaN   \n",
              "\n",
              "                                                   text  target  \\\n",
              "0     Our Deeds are the Reason of this #earthquake M...       1   \n",
              "1                Forest fire near La Ronge Sask. Canada       1   \n",
              "2     All residents asked to 'shelter in place' are ...       1   \n",
              "3     13,000 people receive #wildfires evacuation or...       1   \n",
              "4     Just got sent this photo from Ruby #Alaska as ...       1   \n",
              "...                                                 ...     ...   \n",
              "7608  Two giant cranes holding a bridge collapse int...       1   \n",
              "7609  @aria_ahrary @TheTawniest The out of control w...       1   \n",
              "7610  M1.94 [01:04 UTC]?5km S of Volcano Hawaii. htt...       1   \n",
              "7611  Police investigating after an e-bike collided ...       1   \n",
              "7612  The Latest: More Homes Razed by Northern Calif...       1   \n",
              "\n",
              "                                             text_clean  \n",
              "0     [our, deeds, are, the, reason, of, this, earth...  \n",
              "1         [forest, fire, near, la, ronge, sask, canada]  \n",
              "2     [all, residents, asked, to, shelter, in, place...  \n",
              "3     [people, receive, wildfires, evacuation, order...  \n",
              "4     [just, got, sent, this, photo, from, ruby, ala...  \n",
              "...                                                 ...  \n",
              "7608  [two, giant, cranes, holding, bridge, collapse...  \n",
              "7609  [aria_ahrary, thetawniest, the, out, of, contr...  \n",
              "7610  [utc, km, of, volcano, hawaii, http, co, zdtoy...  \n",
              "7611  [police, investigating, after, an, bike, colli...  \n",
              "7612  [the, latest, more, homes, razed, by, northern...  \n",
              "\n",
              "[7613 rows x 6 columns]"
            ],
            "text/html": [
              "\n",
              "  <div id=\"df-7a89c489-227b-4c97-b490-c578315dac7e\">\n",
              "    <div class=\"colab-df-container\">\n",
              "      <div>\n",
              "<style scoped>\n",
              "    .dataframe tbody tr th:only-of-type {\n",
              "        vertical-align: middle;\n",
              "    }\n",
              "\n",
              "    .dataframe tbody tr th {\n",
              "        vertical-align: top;\n",
              "    }\n",
              "\n",
              "    .dataframe thead th {\n",
              "        text-align: right;\n",
              "    }\n",
              "</style>\n",
              "<table border=\"1\" class=\"dataframe\">\n",
              "  <thead>\n",
              "    <tr style=\"text-align: right;\">\n",
              "      <th></th>\n",
              "      <th>id</th>\n",
              "      <th>keyword</th>\n",
              "      <th>location</th>\n",
              "      <th>text</th>\n",
              "      <th>target</th>\n",
              "      <th>text_clean</th>\n",
              "    </tr>\n",
              "  </thead>\n",
              "  <tbody>\n",
              "    <tr>\n",
              "      <th>0</th>\n",
              "      <td>1</td>\n",
              "      <td>NaN</td>\n",
              "      <td>NaN</td>\n",
              "      <td>Our Deeds are the Reason of this #earthquake M...</td>\n",
              "      <td>1</td>\n",
              "      <td>[our, deeds, are, the, reason, of, this, earth...</td>\n",
              "    </tr>\n",
              "    <tr>\n",
              "      <th>1</th>\n",
              "      <td>4</td>\n",
              "      <td>NaN</td>\n",
              "      <td>NaN</td>\n",
              "      <td>Forest fire near La Ronge Sask. Canada</td>\n",
              "      <td>1</td>\n",
              "      <td>[forest, fire, near, la, ronge, sask, canada]</td>\n",
              "    </tr>\n",
              "    <tr>\n",
              "      <th>2</th>\n",
              "      <td>5</td>\n",
              "      <td>NaN</td>\n",
              "      <td>NaN</td>\n",
              "      <td>All residents asked to 'shelter in place' are ...</td>\n",
              "      <td>1</td>\n",
              "      <td>[all, residents, asked, to, shelter, in, place...</td>\n",
              "    </tr>\n",
              "    <tr>\n",
              "      <th>3</th>\n",
              "      <td>6</td>\n",
              "      <td>NaN</td>\n",
              "      <td>NaN</td>\n",
              "      <td>13,000 people receive #wildfires evacuation or...</td>\n",
              "      <td>1</td>\n",
              "      <td>[people, receive, wildfires, evacuation, order...</td>\n",
              "    </tr>\n",
              "    <tr>\n",
              "      <th>4</th>\n",
              "      <td>7</td>\n",
              "      <td>NaN</td>\n",
              "      <td>NaN</td>\n",
              "      <td>Just got sent this photo from Ruby #Alaska as ...</td>\n",
              "      <td>1</td>\n",
              "      <td>[just, got, sent, this, photo, from, ruby, ala...</td>\n",
              "    </tr>\n",
              "    <tr>\n",
              "      <th>...</th>\n",
              "      <td>...</td>\n",
              "      <td>...</td>\n",
              "      <td>...</td>\n",
              "      <td>...</td>\n",
              "      <td>...</td>\n",
              "      <td>...</td>\n",
              "    </tr>\n",
              "    <tr>\n",
              "      <th>7608</th>\n",
              "      <td>10869</td>\n",
              "      <td>NaN</td>\n",
              "      <td>NaN</td>\n",
              "      <td>Two giant cranes holding a bridge collapse int...</td>\n",
              "      <td>1</td>\n",
              "      <td>[two, giant, cranes, holding, bridge, collapse...</td>\n",
              "    </tr>\n",
              "    <tr>\n",
              "      <th>7609</th>\n",
              "      <td>10870</td>\n",
              "      <td>NaN</td>\n",
              "      <td>NaN</td>\n",
              "      <td>@aria_ahrary @TheTawniest The out of control w...</td>\n",
              "      <td>1</td>\n",
              "      <td>[aria_ahrary, thetawniest, the, out, of, contr...</td>\n",
              "    </tr>\n",
              "    <tr>\n",
              "      <th>7610</th>\n",
              "      <td>10871</td>\n",
              "      <td>NaN</td>\n",
              "      <td>NaN</td>\n",
              "      <td>M1.94 [01:04 UTC]?5km S of Volcano Hawaii. htt...</td>\n",
              "      <td>1</td>\n",
              "      <td>[utc, km, of, volcano, hawaii, http, co, zdtoy...</td>\n",
              "    </tr>\n",
              "    <tr>\n",
              "      <th>7611</th>\n",
              "      <td>10872</td>\n",
              "      <td>NaN</td>\n",
              "      <td>NaN</td>\n",
              "      <td>Police investigating after an e-bike collided ...</td>\n",
              "      <td>1</td>\n",
              "      <td>[police, investigating, after, an, bike, colli...</td>\n",
              "    </tr>\n",
              "    <tr>\n",
              "      <th>7612</th>\n",
              "      <td>10873</td>\n",
              "      <td>NaN</td>\n",
              "      <td>NaN</td>\n",
              "      <td>The Latest: More Homes Razed by Northern Calif...</td>\n",
              "      <td>1</td>\n",
              "      <td>[the, latest, more, homes, razed, by, northern...</td>\n",
              "    </tr>\n",
              "  </tbody>\n",
              "</table>\n",
              "<p>7613 rows × 6 columns</p>\n",
              "</div>\n",
              "      <button class=\"colab-df-convert\" onclick=\"convertToInteractive('df-7a89c489-227b-4c97-b490-c578315dac7e')\"\n",
              "              title=\"Convert this dataframe to an interactive table.\"\n",
              "              style=\"display:none;\">\n",
              "        \n",
              "  <svg xmlns=\"http://www.w3.org/2000/svg\" height=\"24px\"viewBox=\"0 0 24 24\"\n",
              "       width=\"24px\">\n",
              "    <path d=\"M0 0h24v24H0V0z\" fill=\"none\"/>\n",
              "    <path d=\"M18.56 5.44l.94 2.06.94-2.06 2.06-.94-2.06-.94-.94-2.06-.94 2.06-2.06.94zm-11 1L8.5 8.5l.94-2.06 2.06-.94-2.06-.94L8.5 2.5l-.94 2.06-2.06.94zm10 10l.94 2.06.94-2.06 2.06-.94-2.06-.94-.94-2.06-.94 2.06-2.06.94z\"/><path d=\"M17.41 7.96l-1.37-1.37c-.4-.4-.92-.59-1.43-.59-.52 0-1.04.2-1.43.59L10.3 9.45l-7.72 7.72c-.78.78-.78 2.05 0 2.83L4 21.41c.39.39.9.59 1.41.59.51 0 1.02-.2 1.41-.59l7.78-7.78 2.81-2.81c.8-.78.8-2.07 0-2.86zM5.41 20L4 18.59l7.72-7.72 1.47 1.35L5.41 20z\"/>\n",
              "  </svg>\n",
              "      </button>\n",
              "      \n",
              "  <style>\n",
              "    .colab-df-container {\n",
              "      display:flex;\n",
              "      flex-wrap:wrap;\n",
              "      gap: 12px;\n",
              "    }\n",
              "\n",
              "    .colab-df-convert {\n",
              "      background-color: #E8F0FE;\n",
              "      border: none;\n",
              "      border-radius: 50%;\n",
              "      cursor: pointer;\n",
              "      display: none;\n",
              "      fill: #1967D2;\n",
              "      height: 32px;\n",
              "      padding: 0 0 0 0;\n",
              "      width: 32px;\n",
              "    }\n",
              "\n",
              "    .colab-df-convert:hover {\n",
              "      background-color: #E2EBFA;\n",
              "      box-shadow: 0px 1px 2px rgba(60, 64, 67, 0.3), 0px 1px 3px 1px rgba(60, 64, 67, 0.15);\n",
              "      fill: #174EA6;\n",
              "    }\n",
              "\n",
              "    [theme=dark] .colab-df-convert {\n",
              "      background-color: #3B4455;\n",
              "      fill: #D2E3FC;\n",
              "    }\n",
              "\n",
              "    [theme=dark] .colab-df-convert:hover {\n",
              "      background-color: #434B5C;\n",
              "      box-shadow: 0px 1px 3px 1px rgba(0, 0, 0, 0.15);\n",
              "      filter: drop-shadow(0px 1px 2px rgba(0, 0, 0, 0.3));\n",
              "      fill: #FFFFFF;\n",
              "    }\n",
              "  </style>\n",
              "\n",
              "      <script>\n",
              "        const buttonEl =\n",
              "          document.querySelector('#df-7a89c489-227b-4c97-b490-c578315dac7e button.colab-df-convert');\n",
              "        buttonEl.style.display =\n",
              "          google.colab.kernel.accessAllowed ? 'block' : 'none';\n",
              "\n",
              "        async function convertToInteractive(key) {\n",
              "          const element = document.querySelector('#df-7a89c489-227b-4c97-b490-c578315dac7e');\n",
              "          const dataTable =\n",
              "            await google.colab.kernel.invokeFunction('convertToInteractive',\n",
              "                                                     [key], {});\n",
              "          if (!dataTable) return;\n",
              "\n",
              "          const docLinkHtml = 'Like what you see? Visit the ' +\n",
              "            '<a target=\"_blank\" href=https://colab.research.google.com/notebooks/data_table.ipynb>data table notebook</a>'\n",
              "            + ' to learn more about interactive tables.';\n",
              "          element.innerHTML = '';\n",
              "          dataTable['output_type'] = 'display_data';\n",
              "          await google.colab.output.renderOutput(dataTable, element);\n",
              "          const docLink = document.createElement('div');\n",
              "          docLink.innerHTML = docLinkHtml;\n",
              "          element.appendChild(docLink);\n",
              "        }\n",
              "      </script>\n",
              "    </div>\n",
              "  </div>\n",
              "  "
            ]
          },
          "metadata": {},
          "execution_count": 97
        }
      ]
    },
    {
      "cell_type": "code",
      "source": [
        "embedding_w2v = Word2Vec(train_df['text_clean'], min_count=1,\n",
        "                              vector_size=300, window=5)\n",
        "embedding_w2v"
      ],
      "metadata": {
        "colab": {
          "base_uri": "https://localhost:8080/"
        },
        "id": "bBnXWBNJuRCx",
        "outputId": "375c2f28-f0bc-49aa-f258-14fd57e7173f"
      },
      "execution_count": 98,
      "outputs": [
        {
          "output_type": "execute_result",
          "data": {
            "text/plain": [
              "<gensim.models.word2vec.Word2Vec at 0x7f743a2c0280>"
            ]
          },
          "metadata": {},
          "execution_count": 98
        }
      ]
    },
    {
      "cell_type": "code",
      "source": [
        "embedding_w2v.wv.most_similar('fire')"
      ],
      "metadata": {
        "colab": {
          "base_uri": "https://localhost:8080/"
        },
        "id": "OxyV4Y4Xhkb8",
        "outputId": "7a658dbf-950f-4e36-e56c-dda0054fd816"
      },
      "execution_count": 102,
      "outputs": [
        {
          "output_type": "execute_result",
          "data": {
            "text/plain": [
              "[('into', 0.9999105334281921),\n",
              " ('emergency', 0.9999033808708191),\n",
              " ('were', 0.9999018311500549),\n",
              " ('for', 0.9999017715454102),\n",
              " ('ûªs', 0.999893844127655),\n",
              " ('police', 0.9998905658721924),\n",
              " ('of', 0.9998878240585327),\n",
              " ('from', 0.9998831748962402),\n",
              " ('train', 0.9998816847801208),\n",
              " ('near', 0.9998810291290283)]"
            ]
          },
          "metadata": {},
          "execution_count": 102
        }
      ]
    },
    {
      "cell_type": "code",
      "source": [
        "X_train = train_df['text_clean']\n",
        "words = set(embedding_w2v.wv.index_to_key )\n",
        "X_train_vect = np.array([np.array([embedding_w2v.wv[i] for i in ls if i in words])\n",
        "                         for ls in X_train])\n",
        "X_train_vect"
      ],
      "metadata": {
        "colab": {
          "base_uri": "https://localhost:8080/"
        },
        "id": "wF-zCuEfmIF5",
        "outputId": "5287e523-2176-45e5-8d47-910d70e3ab9a"
      },
      "execution_count": 109,
      "outputs": [
        {
          "output_type": "stream",
          "name": "stderr",
          "text": [
            "<ipython-input-109-b865ced66570>:3: VisibleDeprecationWarning: Creating an ndarray from ragged nested sequences (which is a list-or-tuple of lists-or-tuples-or ndarrays with different lengths or shapes) is deprecated. If you meant to do this, you must specify 'dtype=object' when creating the ndarray.\n",
            "  X_train_vect = np.array([np.array([embedding_w2v.wv[i] for i in ls if i in words])\n"
          ]
        },
        {
          "output_type": "execute_result",
          "data": {
            "text/plain": [
              "array([array([[-0.06579447,  0.49924138, -0.06560662, ..., -0.26665354,\n",
              "                0.3875371 , -0.26652   ],\n",
              "              [-0.00228907,  0.01413311, -0.00147193, ..., -0.0114549 ,\n",
              "                0.01284711, -0.00638625],\n",
              "              [-0.11508578,  0.94989294, -0.13690977, ..., -0.5211331 ,\n",
              "                0.70936584, -0.50401944],\n",
              "              ...,\n",
              "              [-0.00249095,  0.01038795, -0.00218319, ..., -0.00614494,\n",
              "                0.01197165, -0.00738899],\n",
              "              [-0.07586714,  0.59824103, -0.07863354, ..., -0.31780103,\n",
              "                0.46438846, -0.3184371 ],\n",
              "              [-0.09630156,  0.7994274 , -0.11431278, ..., -0.4325103 ,\n",
              "                0.6129484 , -0.42738736]], dtype=float32)              ,\n",
              "       array([[-0.04161074,  0.33210063, -0.04291759, ..., -0.17803788,\n",
              "                0.25943756, -0.17865285],\n",
              "              [-0.10577738,  0.7977128 , -0.09752104, ..., -0.4242854 ,\n",
              "                0.62885064, -0.43441552],\n",
              "              [-0.05364077,  0.36335084, -0.0432564 , ..., -0.1894957 ,\n",
              "                0.28359374, -0.1995146 ],\n",
              "              ...,\n",
              "              [ 0.0016681 ,  0.01200721, -0.00259265, ..., -0.00556253,\n",
              "                0.00620276, -0.00165668],\n",
              "              [-0.00313839,  0.00272207,  0.00127814, ..., -0.00310273,\n",
              "                0.00586343, -0.00560815],\n",
              "              [-0.01522269,  0.10310759, -0.01129631, ..., -0.05649608,\n",
              "                0.08025263, -0.05490708]], dtype=float32)              ,\n",
              "       array([[-0.09630156,  0.7994274 , -0.11431278, ..., -0.4325103 ,\n",
              "                0.6129484 , -0.42738736],\n",
              "              [-0.00710514,  0.04284752, -0.0022194 , ..., -0.02087536,\n",
              "                0.03268033, -0.02489784],\n",
              "              [-0.00572445,  0.06305975, -0.01026546, ..., -0.03152946,\n",
              "                0.04701523, -0.03478432],\n",
              "              ...,\n",
              "              [-0.00736988,  0.05022388, -0.00414734, ..., -0.02790542,\n",
              "                0.04268031, -0.02829969],\n",
              "              [-0.11508578,  0.94989294, -0.13690977, ..., -0.5211331 ,\n",
              "                0.70936584, -0.50401944],\n",
              "              [-0.00782643,  0.07342674, -0.00757906, ..., -0.04310522,\n",
              "                0.05848956, -0.03899352]], dtype=float32)              ,\n",
              "       ...,\n",
              "       array([[-2.5830701e-02,  1.6196932e-01, -1.4478178e-02, ...,\n",
              "               -7.5612485e-02,  1.2367374e-01, -8.7658487e-02],\n",
              "              [-3.0197015e-02,  1.9682837e-01, -2.3142358e-02, ...,\n",
              "               -1.0185283e-01,  1.5271491e-01, -1.1066433e-01],\n",
              "              [-1.6733168e-01,  1.1638314e+00, -1.5153827e-01, ...,\n",
              "               -6.1015290e-01,  9.1122550e-01, -6.3778299e-01],\n",
              "              ...,\n",
              "              [-2.5511235e-01,  1.1938844e+00,  9.8135108e-03, ...,\n",
              "               -3.5321754e-01,  1.0554268e+00, -7.5087821e-01],\n",
              "              [-2.0507229e-03,  1.0207859e-02,  5.5306731e-04, ...,\n",
              "               -2.5378142e-03,  7.8966236e-03, -6.4157434e-03],\n",
              "              [-2.9717349e-03,  8.9724874e-03, -7.3659263e-05, ...,\n",
              "               -4.6818787e-03,  3.4347081e-03, -6.1643696e-03]], dtype=float32),\n",
              "       array([[-0.09579603,  0.64663166, -0.07599238, ..., -0.3445752 ,\n",
              "                0.50505036, -0.35639906],\n",
              "              [-0.01606671,  0.09758852, -0.01061759, ..., -0.04982297,\n",
              "                0.07733998, -0.05485724],\n",
              "              [-0.14528033,  0.94801146, -0.11449099, ..., -0.495633  ,\n",
              "                0.7532833 , -0.51949596],\n",
              "              ...,\n",
              "              [-0.05184327,  0.3825095 , -0.05315266, ..., -0.20229761,\n",
              "                0.29835036, -0.2060177 ],\n",
              "              [-0.00330328,  0.043306  , -0.00826019, ..., -0.02298304,\n",
              "                0.0332236 , -0.02616653],\n",
              "              [-0.0325018 ,  0.24581455, -0.03331309, ..., -0.12972394,\n",
              "                0.18632936, -0.12929454]], dtype=float32)              ,\n",
              "       array([[-1.2924616e-01,  1.1095654e+00, -1.5789723e-01, ...,\n",
              "               -5.9353983e-01,  8.6407876e-01, -6.0643297e-01],\n",
              "              [-3.9326847e-02,  2.6929203e-01, -3.5287753e-02, ...,\n",
              "               -1.3956133e-01,  2.0795026e-01, -1.4903702e-01],\n",
              "              [-1.1938606e-01,  7.9982334e-01, -9.4111353e-02, ...,\n",
              "               -4.0020648e-01,  6.0508674e-01, -4.2826250e-01],\n",
              "              ...,\n",
              "              [-2.5511235e-01,  1.1938844e+00,  9.8135108e-03, ...,\n",
              "               -3.5321754e-01,  1.0554268e+00, -7.5087821e-01],\n",
              "              [ 4.8508271e-04,  3.9154370e-03, -2.4320665e-03, ...,\n",
              "               -2.2874768e-03,  1.3669489e-03, -3.5102873e-03],\n",
              "              [-6.4839364e-04,  1.1101032e-03, -1.8140620e-04, ...,\n",
              "               -2.6600042e-03, -1.1289263e-05,  2.1489451e-04]], dtype=float32)],\n",
              "      dtype=object)"
            ]
          },
          "metadata": {},
          "execution_count": 109
        }
      ]
    },
    {
      "cell_type": "code",
      "source": [
        "X_train_vect_avg = []\n",
        "for v in X_train_vect:\n",
        "    if v.size:\n",
        "        X_train_vect_avg.append(v.mean(axis=0))\n",
        "    else:\n",
        "        X_train_vect_avg.append(np.zeros(100, dtype=float))\n",
        "X_train_vect_avg[0].size"
      ],
      "metadata": {
        "colab": {
          "base_uri": "https://localhost:8080/"
        },
        "id": "c6-i_ZNwnjqp",
        "outputId": "c63cf9dc-0663-44c6-b513-dab654f78d81"
      },
      "execution_count": 112,
      "outputs": [
        {
          "output_type": "execute_result",
          "data": {
            "text/plain": [
              "300"
            ]
          },
          "metadata": {},
          "execution_count": 112
        }
      ]
    },
    {
      "cell_type": "code",
      "source": [
        "from sklearn.linear_model import LogisticRegression\n",
        "\n",
        "model = LogisticRegression(penalty='none').fit(X_train_vect_avg, train_labels)\n",
        "y_prob= model.predict_proba(X_train_vect_avg)[:, 1]\n",
        "y_pred = np.round(y_prob)\n",
        "acc = np.sum(y_pred == train_labels) / len(train_labels)\n",
        "acc"
      ],
      "metadata": {
        "colab": {
          "base_uri": "https://localhost:8080/"
        },
        "id": "5TXvm72Lf4n6",
        "outputId": "b26ecd77-f7d4-4db8-d376-6a7613cb860c"
      },
      "execution_count": 122,
      "outputs": [
        {
          "output_type": "stream",
          "name": "stderr",
          "text": [
            "/usr/local/lib/python3.10/dist-packages/sklearn/linear_model/_logistic.py:1173: FutureWarning: `penalty='none'`has been deprecated in 1.2 and will be removed in 1.4. To keep the past behaviour, set `penalty=None`.\n",
            "  warnings.warn(\n",
            "/usr/local/lib/python3.10/dist-packages/sklearn/linear_model/_logistic.py:458: ConvergenceWarning: lbfgs failed to converge (status=1):\n",
            "STOP: TOTAL NO. of ITERATIONS REACHED LIMIT.\n",
            "\n",
            "Increase the number of iterations (max_iter) or scale the data as shown in:\n",
            "    https://scikit-learn.org/stable/modules/preprocessing.html\n",
            "Please also refer to the documentation for alternative solver options:\n",
            "    https://scikit-learn.org/stable/modules/linear_model.html#logistic-regression\n",
            "  n_iter_i = _check_optimize_result(\n"
          ]
        },
        {
          "output_type": "execute_result",
          "data": {
            "text/plain": [
              "0.723893340338894"
            ]
          },
          "metadata": {},
          "execution_count": 122
        }
      ]
    }
  ]
}