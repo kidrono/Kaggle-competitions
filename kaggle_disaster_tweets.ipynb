{
  "nbformat": 4,
  "nbformat_minor": 0,
  "metadata": {
    "colab": {
      "provenance": [],
      "authorship_tag": "ABX9TyMxjmLfZRmMIF5uW2EmmnEe",
      "include_colab_link": true
    },
    "kernelspec": {
      "name": "python3",
      "display_name": "Python 3"
    },
    "language_info": {
      "name": "python"
    }
  },
  "cells": [
    {
      "cell_type": "markdown",
      "metadata": {
        "id": "view-in-github",
        "colab_type": "text"
      },
      "source": [
        "<a href=\"https://colab.research.google.com/github/kidrono/Kaggle-competitions/blob/main/kaggle_disaster_tweets.ipynb\" target=\"_parent\"><img src=\"https://colab.research.google.com/assets/colab-badge.svg\" alt=\"Open In Colab\"/></a>"
      ]
    },
    {
      "cell_type": "markdown",
      "source": [
        "# Kaggle competition: Natural Language Processing with Disaster Tweets\n",
        "The competition information could be found [here](https://www.kaggle.com/competitions/nlp-getting-started/overview)"
      ],
      "metadata": {
        "id": "1JO2P67hZnPp"
      }
    },
    {
      "cell_type": "code",
      "execution_count": 31,
      "metadata": {
        "colab": {
          "base_uri": "https://localhost:8080/"
        },
        "id": "2C24JXicUxQr",
        "outputId": "fe845f40-3335-4a67-f1cc-5af0a989c2e9"
      },
      "outputs": [
        {
          "output_type": "stream",
          "name": "stdout",
          "text": [
            "Looking in indexes: https://pypi.org/simple, https://us-python.pkg.dev/colab-wheels/public/simple/\n",
            "Requirement already satisfied: kaggle in /usr/local/lib/python3.10/dist-packages (1.5.13)\n",
            "Requirement already satisfied: python-dateutil in /usr/local/lib/python3.10/dist-packages (from kaggle) (2.8.2)\n",
            "Requirement already satisfied: requests in /usr/local/lib/python3.10/dist-packages (from kaggle) (2.27.1)\n",
            "Requirement already satisfied: six>=1.10 in /usr/local/lib/python3.10/dist-packages (from kaggle) (1.16.0)\n",
            "Requirement already satisfied: python-slugify in /usr/local/lib/python3.10/dist-packages (from kaggle) (8.0.1)\n",
            "Requirement already satisfied: tqdm in /usr/local/lib/python3.10/dist-packages (from kaggle) (4.65.0)\n",
            "Requirement already satisfied: urllib3 in /usr/local/lib/python3.10/dist-packages (from kaggle) (1.26.15)\n",
            "Requirement already satisfied: certifi in /usr/local/lib/python3.10/dist-packages (from kaggle) (2022.12.7)\n",
            "Requirement already satisfied: text-unidecode>=1.3 in /usr/local/lib/python3.10/dist-packages (from python-slugify->kaggle) (1.3)\n",
            "Requirement already satisfied: charset-normalizer~=2.0.0 in /usr/local/lib/python3.10/dist-packages (from requests->kaggle) (2.0.12)\n",
            "Requirement already satisfied: idna<4,>=2.5 in /usr/local/lib/python3.10/dist-packages (from requests->kaggle) (3.4)\n"
          ]
        }
      ],
      "source": [
        "! pip install kaggle"
      ]
    },
    {
      "cell_type": "code",
      "source": [
        "! mkdir ~/.kaggle"
      ],
      "metadata": {
        "id": "f46Tzr_XV_ux",
        "colab": {
          "base_uri": "https://localhost:8080/"
        },
        "outputId": "3ac2d98c-2345-4201-96a0-a1450ea899a7"
      },
      "execution_count": 32,
      "outputs": [
        {
          "output_type": "stream",
          "name": "stdout",
          "text": [
            "mkdir: cannot create directory ‘/root/.kaggle’: File exists\n"
          ]
        }
      ]
    },
    {
      "cell_type": "code",
      "source": [
        "! cp kaggle.json ~/.kaggle/"
      ],
      "metadata": {
        "id": "Xd-BDNwsWFPq"
      },
      "execution_count": 33,
      "outputs": []
    },
    {
      "cell_type": "code",
      "source": [
        "! chmod 600 ~/.kaggle/kaggle.json"
      ],
      "metadata": {
        "id": "O-XI6_nzWG3y"
      },
      "execution_count": 34,
      "outputs": []
    },
    {
      "cell_type": "code",
      "source": [
        "! kaggle competitions download nlp-getting-started"
      ],
      "metadata": {
        "colab": {
          "base_uri": "https://localhost:8080/"
        },
        "id": "d-3bSGUMWK-R",
        "outputId": "84788059-b3eb-40bb-c614-4503755935c9"
      },
      "execution_count": 35,
      "outputs": [
        {
          "output_type": "stream",
          "name": "stdout",
          "text": [
            "nlp-getting-started.zip: Skipping, found more recently modified local copy (use --force to force download)\n"
          ]
        }
      ]
    },
    {
      "cell_type": "code",
      "source": [
        "import zipfile\n",
        "import os\n",
        "\n",
        "if os.path.isfile(\"/data/train.csv\"):\n",
        "  print(\"allready exists\")\n",
        "else:\n",
        "  zip_ref = zipfile.ZipFile(\"nlp-getting-started.zip\", 'r')\n",
        "  zip_ref.extractall(\"/data\")\n",
        "  zip_ref.close()"
      ],
      "metadata": {
        "id": "gV26R-AKWv6i",
        "colab": {
          "base_uri": "https://localhost:8080/"
        },
        "outputId": "23667031-d785-40d7-fe53-551eee8b7b09"
      },
      "execution_count": 36,
      "outputs": [
        {
          "output_type": "stream",
          "name": "stdout",
          "text": [
            "allready exists\n"
          ]
        }
      ]
    },
    {
      "cell_type": "code",
      "source": [
        "import pandas as pd\n",
        "import numpy as np\n",
        "import re\n",
        "import torch"
      ],
      "metadata": {
        "id": "A2siS3npY4n5"
      },
      "execution_count": 37,
      "outputs": []
    },
    {
      "cell_type": "code",
      "source": [
        "train_df = pd.read_csv(\"/data/train.csv\")\n",
        "train_labels = train_df['target']\n",
        "test_df = pd.read_csv(\"/data/test.csv\")"
      ],
      "metadata": {
        "id": "0cqcQOAYyMCK"
      },
      "execution_count": 38,
      "outputs": []
    },
    {
      "cell_type": "code",
      "source": [
        "# one_hot_dict = dict()\n",
        "# i = 0\n",
        "# for text in train_df['text']:\n",
        "#   clean_tweet = re.sub(r'[^a-zA-Z ]+', '', text)\n",
        "#   tweet = clean_tweet.split(' ')\n",
        "#   for word in tweet:\n",
        "#     word = word.lower()\n",
        "#     if word not in one_hot_dict.keys():\n",
        "#       one_hot_dict[word] = i\n",
        "#       i += 1\n",
        "# vec_dim = len(one_hot_dict) + 1\n",
        "# vec_dim"
      ],
      "metadata": {
        "id": "XGDl-YOnvVF7"
      },
      "execution_count": 39,
      "outputs": []
    },
    {
      "cell_type": "code",
      "source": [
        "# def sentence_vector(text):\n",
        "#   vec = np.zeros(vec_dim)\n",
        "#   clean_tweet = re.sub(r'[^a-zA-Z ]+', '', text)\n",
        "#   tweet = clean_tweet.split(' ')\n",
        "#   for word in tweet:\n",
        "#     word = word.lower()\n",
        "#     if word in one_hot_dict.keys():\n",
        "#       vec[one_hot_dict[word]] += 1\n",
        "#     else:\n",
        "#       vec[-1] += 1\n",
        "#   return vec"
      ],
      "metadata": {
        "id": "lX9eiSCzx-Qt"
      },
      "execution_count": 40,
      "outputs": []
    },
    {
      "cell_type": "code",
      "source": [
        "# X = []\n",
        "# for text in train_df['text']:\n",
        "#   X.append(sentence_vector(text))\n",
        "# X = np.array(X)\n",
        "# X.shape"
      ],
      "metadata": {
        "id": "aZ1fTNF603hj"
      },
      "execution_count": 41,
      "outputs": []
    },
    {
      "cell_type": "code",
      "source": [
        "class LogisticRegression(torch.nn.Module):\n",
        "\n",
        "  def __init__(self, input_dim, classes) -> None:\n",
        "    super().__init__()\n",
        "    self.linear = torch.nn.Linear(input_dim, classes)\n",
        "    self.sigmoid = torch.nn.Sigmoid()\n",
        "  \n",
        "  def forward(self, x):\n",
        "    x = self.linear(x)\n",
        "    x = self.sigmoid(x)\n",
        "    return x"
      ],
      "metadata": {
        "id": "aDdLt70n5-eb"
      },
      "execution_count": 42,
      "outputs": []
    },
    {
      "cell_type": "code",
      "source": [
        "def train(x, y, model, loss, optimizer, ephocs):\n",
        "  for epoch in epochs:\n",
        "    y_pred = model(x)\n",
        "    pred_loss = loss(y, y_pred)\n",
        "    optimizer.zero_grad()\n",
        "    loss.backward()\n",
        "    optimizer.step()\n",
        "    \n"
      ],
      "metadata": {
        "id": "2BdI3PWd9EbI"
      },
      "execution_count": 43,
      "outputs": []
    },
    {
      "cell_type": "code",
      "source": [
        "from gensim.models import Word2Vec\n",
        "import gensim"
      ],
      "metadata": {
        "id": "W37Smgm3snDL"
      },
      "execution_count": 44,
      "outputs": []
    },
    {
      "cell_type": "code",
      "source": [
        "# cleaned_list = []\n",
        "# i = 0\n",
        "# for text in train_df['text']:\n",
        "#   clean_tweet = re.sub(r'[^a-zA-Z ]+', '', text)\n",
        "#   tweet = clean_tweet.lower()\n",
        "#   final = tweet.encode('utf-8').split()\n",
        "#   cleaned_list.append(final)\n",
        "# train_df['clean_tweet'] = cleaned_list\n",
        "# train_df\n"
      ],
      "metadata": {
        "id": "gqXD27uussFS"
      },
      "execution_count": 45,
      "outputs": []
    },
    {
      "cell_type": "code",
      "source": [
        "train_df['text_clean'] = train_df['text'].apply(lambda x: gensim.utils.simple_preprocess(x))\n",
        "test_df['text_clean'] = test_df['text'].apply(lambda x : gensim.utils.simple_preprocess(x))"
      ],
      "metadata": {
        "id": "aqKgSubLiOsi"
      },
      "execution_count": 46,
      "outputs": []
    },
    {
      "cell_type": "code",
      "source": [
        "train_embedding_w2v = Word2Vec(train_df['text_clean'], min_count=1,\n",
        "                              vector_size=300, window=5)"
      ],
      "metadata": {
        "id": "bBnXWBNJuRCx"
      },
      "execution_count": 47,
      "outputs": []
    },
    {
      "cell_type": "code",
      "source": [
        "train_embedding_w2v.wv.most_similar('fire')"
      ],
      "metadata": {
        "colab": {
          "base_uri": "https://localhost:8080/"
        },
        "id": "OxyV4Y4Xhkb8",
        "outputId": "6fd8d5c1-15d3-44be-96a6-d9ae241ae6f4"
      },
      "execution_count": 48,
      "outputs": [
        {
          "output_type": "execute_result",
          "data": {
            "text/plain": [
              "[('new', 0.9999236464500427),\n",
              " ('for', 0.9999111890792847),\n",
              " ('today', 0.9999054074287415),\n",
              " ('storm', 0.9999005198478699),\n",
              " ('police', 0.9998998045921326),\n",
              " ('near', 0.9998946785926819),\n",
              " ('at', 0.9998900890350342),\n",
              " ('from', 0.9998883008956909),\n",
              " ('of', 0.9998878836631775),\n",
              " ('accident', 0.9998804330825806)]"
            ]
          },
          "metadata": {},
          "execution_count": 48
        }
      ]
    },
    {
      "cell_type": "code",
      "source": [
        "X_train = train_df['text_clean']\n",
        "words = set(train_embedding_w2v.wv.index_to_key )\n",
        "X_train_vect = np.array([np.array([train_embedding_w2v.wv[i] for i in ls if i in words])\n",
        "                         for ls in X_train])\n",
        "test_vect = np.array([np.array([train_embedding_w2v.wv[i] for i in ls if i in words])\n",
        "                         for ls in test_df['text_clean']])"
      ],
      "metadata": {
        "colab": {
          "base_uri": "https://localhost:8080/"
        },
        "id": "wF-zCuEfmIF5",
        "outputId": "1c24178f-4665-4bc8-9383-45205f2dea41"
      },
      "execution_count": 49,
      "outputs": [
        {
          "output_type": "stream",
          "name": "stderr",
          "text": [
            "<ipython-input-49-973befb3b90e>:3: VisibleDeprecationWarning: Creating an ndarray from ragged nested sequences (which is a list-or-tuple of lists-or-tuples-or ndarrays with different lengths or shapes) is deprecated. If you meant to do this, you must specify 'dtype=object' when creating the ndarray.\n",
            "  X_train_vect = np.array([np.array([train_embedding_w2v.wv[i] for i in ls if i in words])\n",
            "<ipython-input-49-973befb3b90e>:5: VisibleDeprecationWarning: Creating an ndarray from ragged nested sequences (which is a list-or-tuple of lists-or-tuples-or ndarrays with different lengths or shapes) is deprecated. If you meant to do this, you must specify 'dtype=object' when creating the ndarray.\n",
            "  test_vect = np.array([np.array([train_embedding_w2v.wv[i] for i in ls if i in words])\n"
          ]
        }
      ]
    },
    {
      "cell_type": "code",
      "source": [
        "X_train_vect_avg = []\n",
        "for v in X_train_vect:\n",
        "    if v.size:\n",
        "        X_train_vect_avg.append(v.mean(axis=0))\n",
        "    else:\n",
        "        X_train_vect_avg.append(np.zeros(100, dtype=float))\n",
        "X_train_vect_avg[0].shape "
      ],
      "metadata": {
        "colab": {
          "base_uri": "https://localhost:8080/"
        },
        "id": "c6-i_ZNwnjqp",
        "outputId": "e2ef8dd8-fa7a-4275-dd53-54256d9f773e"
      },
      "execution_count": 70,
      "outputs": [
        {
          "output_type": "execute_result",
          "data": {
            "text/plain": [
              "(300,)"
            ]
          },
          "metadata": {},
          "execution_count": 70
        }
      ]
    },
    {
      "cell_type": "code",
      "source": [
        "test_vect_avg = []\n",
        "for v in test_vect:\n",
        "    if v.size:\n",
        "        test_vect_avg.append(v.mean(axis=0))\n",
        "    else:\n",
        "        test_vect_avg.append(np.zeros(100, dtype=float))\n",
        "test_vect_avg[0].shape"
      ],
      "metadata": {
        "colab": {
          "base_uri": "https://localhost:8080/"
        },
        "id": "TOQsgumX8Sq4",
        "outputId": "3349be2c-1a23-43b1-ed56-cc23d411cb7a"
      },
      "execution_count": 93,
      "outputs": [
        {
          "output_type": "execute_result",
          "data": {
            "text/plain": [
              "(300,)"
            ]
          },
          "metadata": {},
          "execution_count": 93
        }
      ]
    },
    {
      "cell_type": "code",
      "source": [
        "test_df['text_clean'][3015]"
      ],
      "metadata": {
        "colab": {
          "base_uri": "https://localhost:8080/"
        },
        "id": "o_0h3xf1_hAE",
        "outputId": "9637443b-91f9-4328-d79c-9bca277e9601"
      },
      "execution_count": 88,
      "outputs": [
        {
          "output_type": "execute_result",
          "data": {
            "text/plain": [
              "['ashniggas', 'tink']"
            ]
          },
          "metadata": {},
          "execution_count": 88
        }
      ]
    },
    {
      "cell_type": "code",
      "source": [
        "i = 0\n",
        "zeros = []\n",
        "for avg_vec in test_vect_avg:\n",
        "  if avg_vec.size != 300:\n",
        "    zeros.append(i)\n",
        "    print(i, avg_vec.size)\n",
        "    print(test_vect_avg[i])\n",
        "  i += 1\n",
        "\n",
        "for i in zeros:\n",
        "  test_vect_avg[i] = np.zeros(300)"
      ],
      "metadata": {
        "id": "Y9HCa6OZ_Axt"
      },
      "execution_count": 97,
      "outputs": []
    },
    {
      "cell_type": "code",
      "source": [
        "from sklearn.linear_model import LogisticRegression\n",
        "\n",
        "model = LogisticRegression(penalty='none').fit(X_train_vect_avg, train_labels)\n",
        "y_prob= model.predict_proba(X_train_vect_avg)[:, 1]\n",
        "y_pred = np.round(y_prob)\n",
        "acc = np.sum(y_pred == train_labels) / len(train_labels)\n",
        "acc"
      ],
      "metadata": {
        "colab": {
          "base_uri": "https://localhost:8080/"
        },
        "id": "5TXvm72Lf4n6",
        "outputId": "c1d7abd8-706b-4f95-b2f4-73809022f8c5"
      },
      "execution_count": 54,
      "outputs": [
        {
          "output_type": "stream",
          "name": "stderr",
          "text": [
            "/usr/local/lib/python3.10/dist-packages/sklearn/linear_model/_logistic.py:1173: FutureWarning: `penalty='none'`has been deprecated in 1.2 and will be removed in 1.4. To keep the past behaviour, set `penalty=None`.\n",
            "  warnings.warn(\n",
            "/usr/local/lib/python3.10/dist-packages/sklearn/linear_model/_logistic.py:458: ConvergenceWarning: lbfgs failed to converge (status=1):\n",
            "STOP: TOTAL NO. of ITERATIONS REACHED LIMIT.\n",
            "\n",
            "Increase the number of iterations (max_iter) or scale the data as shown in:\n",
            "    https://scikit-learn.org/stable/modules/preprocessing.html\n",
            "Please also refer to the documentation for alternative solver options:\n",
            "    https://scikit-learn.org/stable/modules/linear_model.html#logistic-regression\n",
            "  n_iter_i = _check_optimize_result(\n"
          ]
        },
        {
          "output_type": "execute_result",
          "data": {
            "text/plain": [
              "0.7265204255878103"
            ]
          },
          "metadata": {},
          "execution_count": 54
        }
      ]
    },
    {
      "cell_type": "code",
      "source": [
        "y_test_prob = model.predict_proba(test_vect_avg)[:, 1]\n",
        "y_pred_test = np.round(y_test_prob).astype(int)\n"
      ],
      "metadata": {
        "id": "CXD2XQA96wxW"
      },
      "execution_count": 115,
      "outputs": []
    },
    {
      "cell_type": "code",
      "source": [
        "type(y_pred_test[0])"
      ],
      "metadata": {
        "colab": {
          "base_uri": "https://localhost:8080/"
        },
        "id": "4XHC_hxMExWS",
        "outputId": "f4802c80-3842-46be-ac7a-2b2a18a4cbd4"
      },
      "execution_count": 116,
      "outputs": [
        {
          "output_type": "execute_result",
          "data": {
            "text/plain": [
              "numpy.int64"
            ]
          },
          "metadata": {},
          "execution_count": 116
        }
      ]
    },
    {
      "cell_type": "code",
      "source": [
        "test_df['target'] = y_pred_test\n",
        "test_df.head()"
      ],
      "metadata": {
        "colab": {
          "base_uri": "https://localhost:8080/",
          "height": 206
        },
        "id": "yh_kz1TOA5Yl",
        "outputId": "1a554794-fa70-4e24-cfaf-17a284d49b3d"
      },
      "execution_count": 117,
      "outputs": [
        {
          "output_type": "execute_result",
          "data": {
            "text/plain": [
              "   id keyword location                                               text  \\\n",
              "0   0     NaN      NaN                 Just happened a terrible car crash   \n",
              "1   2     NaN      NaN  Heard about #earthquake is different cities, s...   \n",
              "2   3     NaN      NaN  there is a forest fire at spot pond, geese are...   \n",
              "3   9     NaN      NaN           Apocalypse lighting. #Spokane #wildfires   \n",
              "4  11     NaN      NaN      Typhoon Soudelor kills 28 in China and Taiwan   \n",
              "\n",
              "                                          text_clean  target  \n",
              "0             [just, happened, terrible, car, crash]       1  \n",
              "1  [heard, about, earthquake, is, different, citi...       0  \n",
              "2  [there, is, forest, fire, at, spot, pond, gees...       1  \n",
              "3         [apocalypse, lighting, spokane, wildfires]       0  \n",
              "4  [typhoon, soudelor, kills, in, china, and, tai...       1  "
            ],
            "text/html": [
              "\n",
              "  <div id=\"df-3743ace4-c9d4-43a0-a915-beec186e0fe9\">\n",
              "    <div class=\"colab-df-container\">\n",
              "      <div>\n",
              "<style scoped>\n",
              "    .dataframe tbody tr th:only-of-type {\n",
              "        vertical-align: middle;\n",
              "    }\n",
              "\n",
              "    .dataframe tbody tr th {\n",
              "        vertical-align: top;\n",
              "    }\n",
              "\n",
              "    .dataframe thead th {\n",
              "        text-align: right;\n",
              "    }\n",
              "</style>\n",
              "<table border=\"1\" class=\"dataframe\">\n",
              "  <thead>\n",
              "    <tr style=\"text-align: right;\">\n",
              "      <th></th>\n",
              "      <th>id</th>\n",
              "      <th>keyword</th>\n",
              "      <th>location</th>\n",
              "      <th>text</th>\n",
              "      <th>text_clean</th>\n",
              "      <th>target</th>\n",
              "    </tr>\n",
              "  </thead>\n",
              "  <tbody>\n",
              "    <tr>\n",
              "      <th>0</th>\n",
              "      <td>0</td>\n",
              "      <td>NaN</td>\n",
              "      <td>NaN</td>\n",
              "      <td>Just happened a terrible car crash</td>\n",
              "      <td>[just, happened, terrible, car, crash]</td>\n",
              "      <td>1</td>\n",
              "    </tr>\n",
              "    <tr>\n",
              "      <th>1</th>\n",
              "      <td>2</td>\n",
              "      <td>NaN</td>\n",
              "      <td>NaN</td>\n",
              "      <td>Heard about #earthquake is different cities, s...</td>\n",
              "      <td>[heard, about, earthquake, is, different, citi...</td>\n",
              "      <td>0</td>\n",
              "    </tr>\n",
              "    <tr>\n",
              "      <th>2</th>\n",
              "      <td>3</td>\n",
              "      <td>NaN</td>\n",
              "      <td>NaN</td>\n",
              "      <td>there is a forest fire at spot pond, geese are...</td>\n",
              "      <td>[there, is, forest, fire, at, spot, pond, gees...</td>\n",
              "      <td>1</td>\n",
              "    </tr>\n",
              "    <tr>\n",
              "      <th>3</th>\n",
              "      <td>9</td>\n",
              "      <td>NaN</td>\n",
              "      <td>NaN</td>\n",
              "      <td>Apocalypse lighting. #Spokane #wildfires</td>\n",
              "      <td>[apocalypse, lighting, spokane, wildfires]</td>\n",
              "      <td>0</td>\n",
              "    </tr>\n",
              "    <tr>\n",
              "      <th>4</th>\n",
              "      <td>11</td>\n",
              "      <td>NaN</td>\n",
              "      <td>NaN</td>\n",
              "      <td>Typhoon Soudelor kills 28 in China and Taiwan</td>\n",
              "      <td>[typhoon, soudelor, kills, in, china, and, tai...</td>\n",
              "      <td>1</td>\n",
              "    </tr>\n",
              "  </tbody>\n",
              "</table>\n",
              "</div>\n",
              "      <button class=\"colab-df-convert\" onclick=\"convertToInteractive('df-3743ace4-c9d4-43a0-a915-beec186e0fe9')\"\n",
              "              title=\"Convert this dataframe to an interactive table.\"\n",
              "              style=\"display:none;\">\n",
              "        \n",
              "  <svg xmlns=\"http://www.w3.org/2000/svg\" height=\"24px\"viewBox=\"0 0 24 24\"\n",
              "       width=\"24px\">\n",
              "    <path d=\"M0 0h24v24H0V0z\" fill=\"none\"/>\n",
              "    <path d=\"M18.56 5.44l.94 2.06.94-2.06 2.06-.94-2.06-.94-.94-2.06-.94 2.06-2.06.94zm-11 1L8.5 8.5l.94-2.06 2.06-.94-2.06-.94L8.5 2.5l-.94 2.06-2.06.94zm10 10l.94 2.06.94-2.06 2.06-.94-2.06-.94-.94-2.06-.94 2.06-2.06.94z\"/><path d=\"M17.41 7.96l-1.37-1.37c-.4-.4-.92-.59-1.43-.59-.52 0-1.04.2-1.43.59L10.3 9.45l-7.72 7.72c-.78.78-.78 2.05 0 2.83L4 21.41c.39.39.9.59 1.41.59.51 0 1.02-.2 1.41-.59l7.78-7.78 2.81-2.81c.8-.78.8-2.07 0-2.86zM5.41 20L4 18.59l7.72-7.72 1.47 1.35L5.41 20z\"/>\n",
              "  </svg>\n",
              "      </button>\n",
              "      \n",
              "  <style>\n",
              "    .colab-df-container {\n",
              "      display:flex;\n",
              "      flex-wrap:wrap;\n",
              "      gap: 12px;\n",
              "    }\n",
              "\n",
              "    .colab-df-convert {\n",
              "      background-color: #E8F0FE;\n",
              "      border: none;\n",
              "      border-radius: 50%;\n",
              "      cursor: pointer;\n",
              "      display: none;\n",
              "      fill: #1967D2;\n",
              "      height: 32px;\n",
              "      padding: 0 0 0 0;\n",
              "      width: 32px;\n",
              "    }\n",
              "\n",
              "    .colab-df-convert:hover {\n",
              "      background-color: #E2EBFA;\n",
              "      box-shadow: 0px 1px 2px rgba(60, 64, 67, 0.3), 0px 1px 3px 1px rgba(60, 64, 67, 0.15);\n",
              "      fill: #174EA6;\n",
              "    }\n",
              "\n",
              "    [theme=dark] .colab-df-convert {\n",
              "      background-color: #3B4455;\n",
              "      fill: #D2E3FC;\n",
              "    }\n",
              "\n",
              "    [theme=dark] .colab-df-convert:hover {\n",
              "      background-color: #434B5C;\n",
              "      box-shadow: 0px 1px 3px 1px rgba(0, 0, 0, 0.15);\n",
              "      filter: drop-shadow(0px 1px 2px rgba(0, 0, 0, 0.3));\n",
              "      fill: #FFFFFF;\n",
              "    }\n",
              "  </style>\n",
              "\n",
              "      <script>\n",
              "        const buttonEl =\n",
              "          document.querySelector('#df-3743ace4-c9d4-43a0-a915-beec186e0fe9 button.colab-df-convert');\n",
              "        buttonEl.style.display =\n",
              "          google.colab.kernel.accessAllowed ? 'block' : 'none';\n",
              "\n",
              "        async function convertToInteractive(key) {\n",
              "          const element = document.querySelector('#df-3743ace4-c9d4-43a0-a915-beec186e0fe9');\n",
              "          const dataTable =\n",
              "            await google.colab.kernel.invokeFunction('convertToInteractive',\n",
              "                                                     [key], {});\n",
              "          if (!dataTable) return;\n",
              "\n",
              "          const docLinkHtml = 'Like what you see? Visit the ' +\n",
              "            '<a target=\"_blank\" href=https://colab.research.google.com/notebooks/data_table.ipynb>data table notebook</a>'\n",
              "            + ' to learn more about interactive tables.';\n",
              "          element.innerHTML = '';\n",
              "          dataTable['output_type'] = 'display_data';\n",
              "          await google.colab.output.renderOutput(dataTable, element);\n",
              "          const docLink = document.createElement('div');\n",
              "          docLink.innerHTML = docLinkHtml;\n",
              "          element.appendChild(docLink);\n",
              "        }\n",
              "      </script>\n",
              "    </div>\n",
              "  </div>\n",
              "  "
            ]
          },
          "metadata": {},
          "execution_count": 117
        }
      ]
    },
    {
      "cell_type": "code",
      "source": [
        "submission_df = test_df[['id', 'target']]\n",
        "\n",
        "submission_df.to_csv(\"submission1.csv\", index=False)\n"
      ],
      "metadata": {
        "id": "c3hHbgGLBOwj"
      },
      "execution_count": 118,
      "outputs": []
    }
  ]
}