{
  "nbformat": 4,
  "nbformat_minor": 0,
  "metadata": {
    "colab": {
      "provenance": [],
      "authorship_tag": "ABX9TyNOLiYn4YnWWqrCWaGXQl/A",
      "include_colab_link": true
    },
    "kernelspec": {
      "name": "python3",
      "display_name": "Python 3"
    },
    "language_info": {
      "name": "python"
    }
  },
  "cells": [
    {
      "cell_type": "markdown",
      "metadata": {
        "id": "view-in-github",
        "colab_type": "text"
      },
      "source": [
        "<a href=\"https://colab.research.google.com/github/kidrono/Kaggle-competitions/blob/main/kaggle_disaster_tweets.ipynb\" target=\"_parent\"><img src=\"https://colab.research.google.com/assets/colab-badge.svg\" alt=\"Open In Colab\"/></a>"
      ]
    },
    {
      "cell_type": "markdown",
      "source": [
        "# Kaggle competition: Natural Language Processing with Disaster Tweets\n",
        "The competition information could be found [here](https://www.kaggle.com/competitions/nlp-getting-started/overview)"
      ],
      "metadata": {
        "id": "1JO2P67hZnPp"
      }
    },
    {
      "cell_type": "code",
      "execution_count": 205,
      "metadata": {
        "colab": {
          "base_uri": "https://localhost:8080/"
        },
        "id": "2C24JXicUxQr",
        "outputId": "0e533582-685e-4b76-90b5-dcdc4e59c6dc"
      },
      "outputs": [
        {
          "output_type": "stream",
          "name": "stdout",
          "text": [
            "Looking in indexes: https://pypi.org/simple, https://us-python.pkg.dev/colab-wheels/public/simple/\n",
            "Requirement already satisfied: kaggle in /usr/local/lib/python3.10/dist-packages (1.5.13)\n",
            "Requirement already satisfied: urllib3 in /usr/local/lib/python3.10/dist-packages (from kaggle) (1.26.15)\n",
            "Requirement already satisfied: python-dateutil in /usr/local/lib/python3.10/dist-packages (from kaggle) (2.8.2)\n",
            "Requirement already satisfied: python-slugify in /usr/local/lib/python3.10/dist-packages (from kaggle) (8.0.1)\n",
            "Requirement already satisfied: tqdm in /usr/local/lib/python3.10/dist-packages (from kaggle) (4.65.0)\n",
            "Requirement already satisfied: requests in /usr/local/lib/python3.10/dist-packages (from kaggle) (2.27.1)\n",
            "Requirement already satisfied: certifi in /usr/local/lib/python3.10/dist-packages (from kaggle) (2022.12.7)\n",
            "Requirement already satisfied: six>=1.10 in /usr/local/lib/python3.10/dist-packages (from kaggle) (1.16.0)\n",
            "Requirement already satisfied: text-unidecode>=1.3 in /usr/local/lib/python3.10/dist-packages (from python-slugify->kaggle) (1.3)\n",
            "Requirement already satisfied: charset-normalizer~=2.0.0 in /usr/local/lib/python3.10/dist-packages (from requests->kaggle) (2.0.12)\n",
            "Requirement already satisfied: idna<4,>=2.5 in /usr/local/lib/python3.10/dist-packages (from requests->kaggle) (3.4)\n"
          ]
        }
      ],
      "source": [
        "! pip install kaggle"
      ]
    },
    {
      "cell_type": "code",
      "source": [
        "! mkdir ~/.kaggle"
      ],
      "metadata": {
        "id": "f46Tzr_XV_ux",
        "colab": {
          "base_uri": "https://localhost:8080/"
        },
        "outputId": "df1f8248-7aee-44f1-9562-2c507000dac1"
      },
      "execution_count": 206,
      "outputs": [
        {
          "output_type": "stream",
          "name": "stdout",
          "text": [
            "mkdir: cannot create directory ‘/root/.kaggle’: File exists\n"
          ]
        }
      ]
    },
    {
      "cell_type": "code",
      "source": [
        "! cp kaggle.json ~/.kaggle/"
      ],
      "metadata": {
        "id": "Xd-BDNwsWFPq"
      },
      "execution_count": 207,
      "outputs": []
    },
    {
      "cell_type": "code",
      "source": [
        "! chmod 600 ~/.kaggle/kaggle.json"
      ],
      "metadata": {
        "id": "O-XI6_nzWG3y"
      },
      "execution_count": 208,
      "outputs": []
    },
    {
      "cell_type": "code",
      "source": [
        "! kaggle competitions download nlp-getting-started"
      ],
      "metadata": {
        "colab": {
          "base_uri": "https://localhost:8080/"
        },
        "id": "d-3bSGUMWK-R",
        "outputId": "a41d0cd6-2959-4a1c-cf2c-1593cfe5dffd"
      },
      "execution_count": 209,
      "outputs": [
        {
          "output_type": "stream",
          "name": "stdout",
          "text": [
            "nlp-getting-started.zip: Skipping, found more recently modified local copy (use --force to force download)\n"
          ]
        }
      ]
    },
    {
      "cell_type": "code",
      "source": [
        "import zipfile\n",
        "import os\n",
        "\n",
        "if os.path.isfile(\"/data/train.csv\"):\n",
        "  print(\"allready exists\")\n",
        "else:\n",
        "  zip_ref = zipfile.ZipFile(\"nlp-getting-started.zip\", 'r')\n",
        "  zip_ref.extractall(\"/data\")\n",
        "  zip_ref.close()"
      ],
      "metadata": {
        "id": "gV26R-AKWv6i",
        "colab": {
          "base_uri": "https://localhost:8080/"
        },
        "outputId": "25b37b9e-bc56-45c8-f17d-bd7037b70172"
      },
      "execution_count": 210,
      "outputs": [
        {
          "output_type": "stream",
          "name": "stdout",
          "text": [
            "allready exists\n"
          ]
        }
      ]
    },
    {
      "cell_type": "code",
      "source": [
        "import pandas as pd\n",
        "import numpy as np\n",
        "import re\n",
        "import torch"
      ],
      "metadata": {
        "id": "A2siS3npY4n5"
      },
      "execution_count": 211,
      "outputs": []
    },
    {
      "cell_type": "code",
      "source": [
        "train_df = pd.read_csv(\"/data/train.csv\")\n",
        "train_labels = train_df['target']\n",
        "test_df = pd.read_csv(\"/data/test.csv\")"
      ],
      "metadata": {
        "id": "0cqcQOAYyMCK"
      },
      "execution_count": 212,
      "outputs": []
    },
    {
      "cell_type": "code",
      "source": [
        "# one_hot_dict = dict()\n",
        "# i = 0\n",
        "# for text in train_df['text']:\n",
        "#   clean_tweet = re.sub(r'[^a-zA-Z ]+', '', text)\n",
        "#   tweet = clean_tweet.split(' ')\n",
        "#   for word in tweet:\n",
        "#     word = word.lower()\n",
        "#     if word not in one_hot_dict.keys():\n",
        "#       one_hot_dict[word] = i\n",
        "#       i += 1\n",
        "# vec_dim = len(one_hot_dict) + 1\n",
        "# vec_dim"
      ],
      "metadata": {
        "id": "XGDl-YOnvVF7"
      },
      "execution_count": 213,
      "outputs": []
    },
    {
      "cell_type": "code",
      "source": [
        "# def sentence_vector(text):\n",
        "#   vec = np.zeros(vec_dim)\n",
        "#   clean_tweet = re.sub(r'[^a-zA-Z ]+', '', text)\n",
        "#   tweet = clean_tweet.split(' ')\n",
        "#   for word in tweet:\n",
        "#     word = word.lower()\n",
        "#     if word in one_hot_dict.keys():\n",
        "#       vec[one_hot_dict[word]] += 1\n",
        "#     else:\n",
        "#       vec[-1] += 1\n",
        "#   return vec"
      ],
      "metadata": {
        "id": "lX9eiSCzx-Qt"
      },
      "execution_count": 214,
      "outputs": []
    },
    {
      "cell_type": "code",
      "source": [
        "# X = []\n",
        "# for text in train_df['text']:\n",
        "#   X.append(sentence_vector(text))\n",
        "# X = np.array(X)\n",
        "# X.shape"
      ],
      "metadata": {
        "id": "aZ1fTNF603hj"
      },
      "execution_count": 215,
      "outputs": []
    },
    {
      "cell_type": "code",
      "source": [
        "class LogisticRegression(torch.nn.Module):\n",
        "\n",
        "  def __init__(self, input_dim, classes) -> None:\n",
        "    super().__init__()\n",
        "    self.linear = torch.nn.Linear(input_dim, classes)\n",
        "    self.sigmoid = torch.nn.Sigmoid()\n",
        "  \n",
        "  def forward(self, x):\n",
        "    x = self.linear(x)\n",
        "    x = self.sigmoid(x)\n",
        "    return x"
      ],
      "metadata": {
        "id": "aDdLt70n5-eb"
      },
      "execution_count": 216,
      "outputs": []
    },
    {
      "cell_type": "code",
      "source": [
        "def train(x, y, model, loss, optimizer, ephocs):\n",
        "  for epoch in epochs:\n",
        "    y_pred = model(x)\n",
        "    pred_loss = loss(y, y_pred)\n",
        "    optimizer.zero_grad()\n",
        "    loss.backward()\n",
        "    optimizer.step()\n",
        "    \n"
      ],
      "metadata": {
        "id": "2BdI3PWd9EbI"
      },
      "execution_count": 217,
      "outputs": []
    },
    {
      "cell_type": "code",
      "source": [
        "from gensim.models import Word2Vec\n",
        "import gensim"
      ],
      "metadata": {
        "id": "W37Smgm3snDL"
      },
      "execution_count": 218,
      "outputs": []
    },
    {
      "cell_type": "code",
      "source": [
        "# cleaned_list = []\n",
        "# i = 0\n",
        "# for text in train_df['text']:\n",
        "#   clean_tweet = re.sub(r'[^a-zA-Z ]+', '', text)\n",
        "#   tweet = clean_tweet.lower()\n",
        "#   final = tweet.encode('utf-8').split()\n",
        "#   cleaned_list.append(final)\n",
        "# train_df['clean_tweet'] = cleaned_list\n",
        "# train_df\n"
      ],
      "metadata": {
        "id": "gqXD27uussFS"
      },
      "execution_count": 219,
      "outputs": []
    },
    {
      "cell_type": "code",
      "source": [
        "train_df['text_clean'] = train_df['text'].apply(lambda x: gensim.utils.simple_preprocess(x))\n",
        "test_df['text_clean'] = test_df['text'].apply(lambda x : gensim.utils.simple_preprocess(x))"
      ],
      "metadata": {
        "id": "aqKgSubLiOsi"
      },
      "execution_count": 220,
      "outputs": []
    },
    {
      "cell_type": "code",
      "source": [
        "train_embedding_w2v = Word2Vec(train_df['text_clean'], min_count=1,\n",
        "                              vector_size=300, window=5)"
      ],
      "metadata": {
        "id": "bBnXWBNJuRCx"
      },
      "execution_count": 221,
      "outputs": []
    },
    {
      "cell_type": "code",
      "source": [
        "train_embedding_w2v.wv.most_similar('fire')"
      ],
      "metadata": {
        "colab": {
          "base_uri": "https://localhost:8080/"
        },
        "id": "OxyV4Y4Xhkb8",
        "outputId": "bf7aa955-a138-4f04-8175-c0874564c83f"
      },
      "execution_count": 222,
      "outputs": [
        {
          "output_type": "execute_result",
          "data": {
            "text/plain": [
              "[('in', 0.9999072551727295),\n",
              " ('at', 0.9999041557312012),\n",
              " ('new', 0.9999038577079773),\n",
              " ('emergency', 0.9999035000801086),\n",
              " ('for', 0.9998944997787476),\n",
              " ('storm', 0.999893307685852),\n",
              " ('police', 0.9998927116394043),\n",
              " ('from', 0.9998804330825806),\n",
              " ('after', 0.9998769760131836),\n",
              " ('accident', 0.999870240688324)]"
            ]
          },
          "metadata": {},
          "execution_count": 222
        }
      ]
    },
    {
      "cell_type": "code",
      "source": [
        "X_train = train_df['text_clean']\n",
        "words = set(train_embedding_w2v.wv.index_to_key )\n",
        "X_train_vect = np.array([np.array([train_embedding_w2v.wv[i] for i in ls if i in words])\n",
        "                         for ls in X_train])\n",
        "test_vect = np.array([np.array([train_embedding_w2v.wv[i] for i in ls if i in words])\n",
        "                         for ls in test_df['text_clean']])"
      ],
      "metadata": {
        "colab": {
          "base_uri": "https://localhost:8080/"
        },
        "id": "wF-zCuEfmIF5",
        "outputId": "42015869-4217-48ca-e256-ff12eb16f4ce"
      },
      "execution_count": 223,
      "outputs": [
        {
          "output_type": "stream",
          "name": "stderr",
          "text": [
            "<ipython-input-223-973befb3b90e>:3: VisibleDeprecationWarning: Creating an ndarray from ragged nested sequences (which is a list-or-tuple of lists-or-tuples-or ndarrays with different lengths or shapes) is deprecated. If you meant to do this, you must specify 'dtype=object' when creating the ndarray.\n",
            "  X_train_vect = np.array([np.array([train_embedding_w2v.wv[i] for i in ls if i in words])\n",
            "<ipython-input-223-973befb3b90e>:5: VisibleDeprecationWarning: Creating an ndarray from ragged nested sequences (which is a list-or-tuple of lists-or-tuples-or ndarrays with different lengths or shapes) is deprecated. If you meant to do this, you must specify 'dtype=object' when creating the ndarray.\n",
            "  test_vect = np.array([np.array([train_embedding_w2v.wv[i] for i in ls if i in words])\n"
          ]
        }
      ]
    },
    {
      "cell_type": "code",
      "source": [
        "X_train_vect_avg = []\n",
        "for v in X_train_vect:\n",
        "    if v.size:\n",
        "        X_train_vect_avg.append(v.mean(axis=0))\n",
        "    else:\n",
        "        X_train_vect_avg.append(np.zeros(100, dtype=float))\n",
        "X_train_vect_avg[0].shape "
      ],
      "metadata": {
        "colab": {
          "base_uri": "https://localhost:8080/"
        },
        "id": "c6-i_ZNwnjqp",
        "outputId": "4a38595b-df7f-4ecb-8df6-430bec738a05"
      },
      "execution_count": 224,
      "outputs": [
        {
          "output_type": "execute_result",
          "data": {
            "text/plain": [
              "(300,)"
            ]
          },
          "metadata": {},
          "execution_count": 224
        }
      ]
    },
    {
      "cell_type": "code",
      "source": [
        "test_vect_avg = []\n",
        "for v in test_vect:\n",
        "    if v.size:\n",
        "        test_vect_avg.append(v.mean(axis=0))\n",
        "    else:\n",
        "        test_vect_avg.append(np.zeros(100, dtype=float))\n",
        "test_vect_avg[0].shape"
      ],
      "metadata": {
        "colab": {
          "base_uri": "https://localhost:8080/"
        },
        "id": "TOQsgumX8Sq4",
        "outputId": "3683be6c-506e-4a8d-c52a-21906f2ea52d"
      },
      "execution_count": 225,
      "outputs": [
        {
          "output_type": "execute_result",
          "data": {
            "text/plain": [
              "(300,)"
            ]
          },
          "metadata": {},
          "execution_count": 225
        }
      ]
    },
    {
      "cell_type": "code",
      "source": [
        "i = 0\n",
        "zeros = []\n",
        "for avg_vec in test_vect_avg:\n",
        "  if avg_vec.size != 300:\n",
        "    zeros.append(i)\n",
        "  i += 1\n",
        "\n",
        "for i in zeros:\n",
        "  test_vect_avg[i] = np.zeros(300)"
      ],
      "metadata": {
        "id": "Y9HCa6OZ_Axt"
      },
      "execution_count": 253,
      "outputs": []
    },
    {
      "cell_type": "markdown",
      "source": [
        "## Logistic Regression:\n",
        "got 0.7 score"
      ],
      "metadata": {
        "id": "5fJQiqAw03pY"
      }
    },
    {
      "cell_type": "code",
      "source": [
        "from sklearn.linear_model import LogisticRegression\n",
        "\n",
        "model = LogisticRegression(penalty='none').fit(X_train_vect_avg, train_labels)\n",
        "y_prob= model.predict_proba(X_train_vect_avg)[:, 1]\n",
        "y_pred = np.round(y_prob)\n",
        "acc = np.sum(y_pred == train_labels) / len(train_labels)\n",
        "acc"
      ],
      "metadata": {
        "colab": {
          "base_uri": "https://localhost:8080/"
        },
        "id": "5TXvm72Lf4n6",
        "outputId": "b162c9d6-26d1-4434-f975-263049ac42c5"
      },
      "execution_count": 228,
      "outputs": [
        {
          "output_type": "stream",
          "name": "stderr",
          "text": [
            "/usr/local/lib/python3.10/dist-packages/sklearn/linear_model/_logistic.py:1173: FutureWarning: `penalty='none'`has been deprecated in 1.2 and will be removed in 1.4. To keep the past behaviour, set `penalty=None`.\n",
            "  warnings.warn(\n",
            "/usr/local/lib/python3.10/dist-packages/sklearn/linear_model/_logistic.py:458: ConvergenceWarning: lbfgs failed to converge (status=1):\n",
            "STOP: TOTAL NO. of ITERATIONS REACHED LIMIT.\n",
            "\n",
            "Increase the number of iterations (max_iter) or scale the data as shown in:\n",
            "    https://scikit-learn.org/stable/modules/preprocessing.html\n",
            "Please also refer to the documentation for alternative solver options:\n",
            "    https://scikit-learn.org/stable/modules/linear_model.html#logistic-regression\n",
            "  n_iter_i = _check_optimize_result(\n"
          ]
        },
        {
          "output_type": "execute_result",
          "data": {
            "text/plain": [
              "0.7277026139498227"
            ]
          },
          "metadata": {},
          "execution_count": 228
        }
      ]
    },
    {
      "cell_type": "code",
      "source": [
        "y_test_prob = model.predict_proba(test_vect_avg)[:, 1]\n",
        "y_pred_test = np.round(y_test_prob).astype(int)\n"
      ],
      "metadata": {
        "id": "CXD2XQA96wxW"
      },
      "execution_count": 229,
      "outputs": []
    },
    {
      "cell_type": "code",
      "source": [
        "type(y_pred_test[0])"
      ],
      "metadata": {
        "colab": {
          "base_uri": "https://localhost:8080/"
        },
        "id": "4XHC_hxMExWS",
        "outputId": "3242a9c4-7da6-4034-e66a-ddf387b2277d"
      },
      "execution_count": 230,
      "outputs": [
        {
          "output_type": "execute_result",
          "data": {
            "text/plain": [
              "numpy.int64"
            ]
          },
          "metadata": {},
          "execution_count": 230
        }
      ]
    },
    {
      "cell_type": "code",
      "source": [
        "test_df['target'] = y_pred_test\n",
        "test_df.head()"
      ],
      "metadata": {
        "colab": {
          "base_uri": "https://localhost:8080/",
          "height": 206
        },
        "id": "yh_kz1TOA5Yl",
        "outputId": "ac16b95b-9ac5-40c3-d99d-70684e8cfeb4"
      },
      "execution_count": 231,
      "outputs": [
        {
          "output_type": "execute_result",
          "data": {
            "text/plain": [
              "   id keyword location                                               text  \\\n",
              "0   0     NaN      NaN                 Just happened a terrible car crash   \n",
              "1   2     NaN      NaN  Heard about #earthquake is different cities, s...   \n",
              "2   3     NaN      NaN  there is a forest fire at spot pond, geese are...   \n",
              "3   9     NaN      NaN           Apocalypse lighting. #Spokane #wildfires   \n",
              "4  11     NaN      NaN      Typhoon Soudelor kills 28 in China and Taiwan   \n",
              "\n",
              "                                          text_clean  target  \n",
              "0             [just, happened, terrible, car, crash]       0  \n",
              "1  [heard, about, earthquake, is, different, citi...       0  \n",
              "2  [there, is, forest, fire, at, spot, pond, gees...       0  \n",
              "3         [apocalypse, lighting, spokane, wildfires]       0  \n",
              "4  [typhoon, soudelor, kills, in, china, and, tai...       1  "
            ],
            "text/html": [
              "\n",
              "  <div id=\"df-b20553c4-fb12-4442-a434-17cd3acbf3f8\">\n",
              "    <div class=\"colab-df-container\">\n",
              "      <div>\n",
              "<style scoped>\n",
              "    .dataframe tbody tr th:only-of-type {\n",
              "        vertical-align: middle;\n",
              "    }\n",
              "\n",
              "    .dataframe tbody tr th {\n",
              "        vertical-align: top;\n",
              "    }\n",
              "\n",
              "    .dataframe thead th {\n",
              "        text-align: right;\n",
              "    }\n",
              "</style>\n",
              "<table border=\"1\" class=\"dataframe\">\n",
              "  <thead>\n",
              "    <tr style=\"text-align: right;\">\n",
              "      <th></th>\n",
              "      <th>id</th>\n",
              "      <th>keyword</th>\n",
              "      <th>location</th>\n",
              "      <th>text</th>\n",
              "      <th>text_clean</th>\n",
              "      <th>target</th>\n",
              "    </tr>\n",
              "  </thead>\n",
              "  <tbody>\n",
              "    <tr>\n",
              "      <th>0</th>\n",
              "      <td>0</td>\n",
              "      <td>NaN</td>\n",
              "      <td>NaN</td>\n",
              "      <td>Just happened a terrible car crash</td>\n",
              "      <td>[just, happened, terrible, car, crash]</td>\n",
              "      <td>0</td>\n",
              "    </tr>\n",
              "    <tr>\n",
              "      <th>1</th>\n",
              "      <td>2</td>\n",
              "      <td>NaN</td>\n",
              "      <td>NaN</td>\n",
              "      <td>Heard about #earthquake is different cities, s...</td>\n",
              "      <td>[heard, about, earthquake, is, different, citi...</td>\n",
              "      <td>0</td>\n",
              "    </tr>\n",
              "    <tr>\n",
              "      <th>2</th>\n",
              "      <td>3</td>\n",
              "      <td>NaN</td>\n",
              "      <td>NaN</td>\n",
              "      <td>there is a forest fire at spot pond, geese are...</td>\n",
              "      <td>[there, is, forest, fire, at, spot, pond, gees...</td>\n",
              "      <td>0</td>\n",
              "    </tr>\n",
              "    <tr>\n",
              "      <th>3</th>\n",
              "      <td>9</td>\n",
              "      <td>NaN</td>\n",
              "      <td>NaN</td>\n",
              "      <td>Apocalypse lighting. #Spokane #wildfires</td>\n",
              "      <td>[apocalypse, lighting, spokane, wildfires]</td>\n",
              "      <td>0</td>\n",
              "    </tr>\n",
              "    <tr>\n",
              "      <th>4</th>\n",
              "      <td>11</td>\n",
              "      <td>NaN</td>\n",
              "      <td>NaN</td>\n",
              "      <td>Typhoon Soudelor kills 28 in China and Taiwan</td>\n",
              "      <td>[typhoon, soudelor, kills, in, china, and, tai...</td>\n",
              "      <td>1</td>\n",
              "    </tr>\n",
              "  </tbody>\n",
              "</table>\n",
              "</div>\n",
              "      <button class=\"colab-df-convert\" onclick=\"convertToInteractive('df-b20553c4-fb12-4442-a434-17cd3acbf3f8')\"\n",
              "              title=\"Convert this dataframe to an interactive table.\"\n",
              "              style=\"display:none;\">\n",
              "        \n",
              "  <svg xmlns=\"http://www.w3.org/2000/svg\" height=\"24px\"viewBox=\"0 0 24 24\"\n",
              "       width=\"24px\">\n",
              "    <path d=\"M0 0h24v24H0V0z\" fill=\"none\"/>\n",
              "    <path d=\"M18.56 5.44l.94 2.06.94-2.06 2.06-.94-2.06-.94-.94-2.06-.94 2.06-2.06.94zm-11 1L8.5 8.5l.94-2.06 2.06-.94-2.06-.94L8.5 2.5l-.94 2.06-2.06.94zm10 10l.94 2.06.94-2.06 2.06-.94-2.06-.94-.94-2.06-.94 2.06-2.06.94z\"/><path d=\"M17.41 7.96l-1.37-1.37c-.4-.4-.92-.59-1.43-.59-.52 0-1.04.2-1.43.59L10.3 9.45l-7.72 7.72c-.78.78-.78 2.05 0 2.83L4 21.41c.39.39.9.59 1.41.59.51 0 1.02-.2 1.41-.59l7.78-7.78 2.81-2.81c.8-.78.8-2.07 0-2.86zM5.41 20L4 18.59l7.72-7.72 1.47 1.35L5.41 20z\"/>\n",
              "  </svg>\n",
              "      </button>\n",
              "      \n",
              "  <style>\n",
              "    .colab-df-container {\n",
              "      display:flex;\n",
              "      flex-wrap:wrap;\n",
              "      gap: 12px;\n",
              "    }\n",
              "\n",
              "    .colab-df-convert {\n",
              "      background-color: #E8F0FE;\n",
              "      border: none;\n",
              "      border-radius: 50%;\n",
              "      cursor: pointer;\n",
              "      display: none;\n",
              "      fill: #1967D2;\n",
              "      height: 32px;\n",
              "      padding: 0 0 0 0;\n",
              "      width: 32px;\n",
              "    }\n",
              "\n",
              "    .colab-df-convert:hover {\n",
              "      background-color: #E2EBFA;\n",
              "      box-shadow: 0px 1px 2px rgba(60, 64, 67, 0.3), 0px 1px 3px 1px rgba(60, 64, 67, 0.15);\n",
              "      fill: #174EA6;\n",
              "    }\n",
              "\n",
              "    [theme=dark] .colab-df-convert {\n",
              "      background-color: #3B4455;\n",
              "      fill: #D2E3FC;\n",
              "    }\n",
              "\n",
              "    [theme=dark] .colab-df-convert:hover {\n",
              "      background-color: #434B5C;\n",
              "      box-shadow: 0px 1px 3px 1px rgba(0, 0, 0, 0.15);\n",
              "      filter: drop-shadow(0px 1px 2px rgba(0, 0, 0, 0.3));\n",
              "      fill: #FFFFFF;\n",
              "    }\n",
              "  </style>\n",
              "\n",
              "      <script>\n",
              "        const buttonEl =\n",
              "          document.querySelector('#df-b20553c4-fb12-4442-a434-17cd3acbf3f8 button.colab-df-convert');\n",
              "        buttonEl.style.display =\n",
              "          google.colab.kernel.accessAllowed ? 'block' : 'none';\n",
              "\n",
              "        async function convertToInteractive(key) {\n",
              "          const element = document.querySelector('#df-b20553c4-fb12-4442-a434-17cd3acbf3f8');\n",
              "          const dataTable =\n",
              "            await google.colab.kernel.invokeFunction('convertToInteractive',\n",
              "                                                     [key], {});\n",
              "          if (!dataTable) return;\n",
              "\n",
              "          const docLinkHtml = 'Like what you see? Visit the ' +\n",
              "            '<a target=\"_blank\" href=https://colab.research.google.com/notebooks/data_table.ipynb>data table notebook</a>'\n",
              "            + ' to learn more about interactive tables.';\n",
              "          element.innerHTML = '';\n",
              "          dataTable['output_type'] = 'display_data';\n",
              "          await google.colab.output.renderOutput(dataTable, element);\n",
              "          const docLink = document.createElement('div');\n",
              "          docLink.innerHTML = docLinkHtml;\n",
              "          element.appendChild(docLink);\n",
              "        }\n",
              "      </script>\n",
              "    </div>\n",
              "  </div>\n",
              "  "
            ]
          },
          "metadata": {},
          "execution_count": 231
        }
      ]
    },
    {
      "cell_type": "code",
      "source": [
        "submission_df = test_df[['id', 'target']]\n",
        "\n",
        "submission_df.to_csv(\"submission1.csv\", index=False)\n"
      ],
      "metadata": {
        "id": "c3hHbgGLBOwj"
      },
      "execution_count": 232,
      "outputs": []
    },
    {
      "cell_type": "markdown",
      "source": [
        "## K-NN Classifier:\n",
        "got 0.62 score with 10 neighburs"
      ],
      "metadata": {
        "id": "iGdljsFt0pQG"
      }
    },
    {
      "cell_type": "code",
      "source": [
        "from sklearn.ensemble import GradientBoostingClassifier\n",
        "from sklearn.neighbors import KNeighborsClassifier\n",
        "from sklearn.tree import DecisionTreeClassifier\n",
        "from sklearn.metrics import accuracy_score\n",
        "\n",
        "model = KNeighborsClassifier(n_neighbors=10).fit(X_train_vect_avg, train_labels)\n",
        "y_pred = model.predict(X_train_vect_avg)\n",
        "acc = accuracy_score(train_labels, y_pred)\n",
        "acc"
      ],
      "metadata": {
        "colab": {
          "base_uri": "https://localhost:8080/"
        },
        "id": "y5AYdDZmsxGj",
        "outputId": "2c87fda9-a3c9-4036-f5f3-759c8fe10d41"
      },
      "execution_count": 250,
      "outputs": [
        {
          "output_type": "execute_result",
          "data": {
            "text/plain": [
              "0.7120714567187705"
            ]
          },
          "metadata": {},
          "execution_count": 250
        }
      ]
    },
    {
      "cell_type": "code",
      "source": [
        "y_test_pred = model.predict(test_vect_avg)\n",
        "test_df['target'] = y_test_pred\n",
        "submission_df = test_df[['id', 'target']]\n",
        "submission_df.to_csv(\"submission2.csv\", index=False)"
      ],
      "metadata": {
        "id": "rjRLN9ftt8Z1"
      },
      "execution_count": 236,
      "outputs": []
    },
    {
      "cell_type": "markdown",
      "source": [
        "## Decision Tree:\n",
        "got 0.65 score with 8 depth"
      ],
      "metadata": {
        "id": "ZTLIXh3h0cx3"
      }
    },
    {
      "cell_type": "code",
      "source": [
        "model = DecisionTreeClassifier(max_depth=8).fit(X_train_vect_avg, train_labels)\n",
        "y_pred = model.predict(X_train_vect_avg)\n",
        "acc = accuracy_score(train_labels, y_pred)\n",
        "acc"
      ],
      "metadata": {
        "colab": {
          "base_uri": "https://localhost:8080/"
        },
        "id": "kGeV8dJiwsF0",
        "outputId": "fe0931c1-6858-4b53-f321-06a72d2151c6"
      },
      "execution_count": 242,
      "outputs": [
        {
          "output_type": "execute_result",
          "data": {
            "text/plain": [
              "0.7326940759227637"
            ]
          },
          "metadata": {},
          "execution_count": 242
        }
      ]
    },
    {
      "cell_type": "code",
      "source": [
        "y_test_pred = model.predict(test_vect_avg)\n",
        "test_df['target'] = y_test_pred\n",
        "submission_df = test_df[['id', 'target']]\n",
        "submission_df.to_csv(\"submission3.csv\", index=False)"
      ],
      "metadata": {
        "id": "QQK98L5Vw7MS"
      },
      "execution_count": 243,
      "outputs": []
    },
    {
      "cell_type": "markdown",
      "source": [
        "## Gradient Boosting:\n",
        "The submission got 0.67 score"
      ],
      "metadata": {
        "id": "a8sSV_y30MfO"
      }
    },
    {
      "cell_type": "code",
      "source": [
        "model = GradientBoostingClassifier().fit(X_train_vect_avg, train_labels)\n",
        "y_pred = model.predict(X_train_vect_avg)\n",
        "acc = accuracy_score(train_labels, y_pred)\n",
        "acc"
      ],
      "metadata": {
        "colab": {
          "base_uri": "https://localhost:8080/"
        },
        "id": "qBhHFKpjxnC5",
        "outputId": "9494b479-22f2-42b1-a5f0-32fdf610a491"
      },
      "execution_count": 251,
      "outputs": [
        {
          "output_type": "execute_result",
          "data": {
            "text/plain": [
              "0.7484565874162616"
            ]
          },
          "metadata": {},
          "execution_count": 251
        }
      ]
    },
    {
      "cell_type": "code",
      "source": [
        "y_test_pred = model.predict(test_vect_avg)\n",
        "test_df['target'] = y_test_pred\n",
        "submission_df = test_df[['id', 'target']]\n",
        "submission_df.to_csv(\"submission4.csv\", index=False)"
      ],
      "metadata": {
        "id": "HJde0kxQzv9k"
      },
      "execution_count": 252,
      "outputs": []
    }
  ]
}